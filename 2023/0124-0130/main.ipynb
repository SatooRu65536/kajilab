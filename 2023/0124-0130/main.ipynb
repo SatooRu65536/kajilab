{
 "cells": [
  {
   "cell_type": "code",
   "execution_count": null,
   "metadata": {},
   "outputs": [],
   "source": [
    "import pandas as pd\n",
    "import numpy as np\n",
    "from scipy.stats import entropy\n",
    "from mcp_persor import BVHparser\n"
   ]
  },
  {
   "cell_type": "code",
   "execution_count": null,
   "metadata": {},
   "outputs": [],
   "source": [
    "# 窓ごとの特徴量を抽出\n",
    "## データの読み込み\n",
    "bvhp = BVHparser('./logs/refrigerator.bvh')\n",
    "df = bvhp.get_motion_df()\n",
    "\n",
    "# 窓ごとの特徴量を抽出する関数\n",
    "def calculate_features(window):\n",
    "    features = []\n",
    "    \n",
    "    # 中央値の計算\n",
    "    median_time = window['time'].mean()\n",
    "    \n",
    "    # 平均、分散、相関、ゼロ交差数、エネルギー、エントロピーの計算\n",
    "    for joint in columns:\n",
    "        X_rotate = window[joint + '_Xrotation'].values\n",
    "        Y_rotate = window[joint + '_Yrotation'].values\n",
    "        Z_rotate = window[joint + '_Zrotation'].values\n",
    "        \n",
    "        # 平均\n",
    "        mean_value = np.mean([X_rotate, Y_rotate, Z_rotate])\n",
    "        # 分散\n",
    "        variance_value = np.var([X_rotate, Y_rotate, Z_rotate])\n",
    "        # 相関\n",
    "        correlation_value = np.corrcoef([X_rotate, Y_rotate, Z_rotate])[0, 1]\n",
    "        # ゼロ交差数\n",
    "        zero_crossings = np.sum(np.diff(np.signbit([X_rotate, Y_rotate, Z_rotate])) != 0)\n",
    "        # エネルギー\n",
    "        energy_value = np.sum(np.square([X_rotate, Y_rotate, Z_rotate]))\n",
    "        # エントロピー\n",
    "        # entropy_value = entropy([X_rotate, Y_rotate, Z_rotate])\n",
    "        \n",
    "        # features.extend([mean_value, variance_value, correlation_value, zero_crossings, energy_value, entropy_value])\n",
    "        features.extend([mean_value, variance_value, correlation_value, zero_crossings, energy_value])\n",
    "    \n",
    "    return [median_time] + features\n",
    "\n",
    "# 窓ごとの特徴量を計算し、結果をデータフレームに格納\n",
    "window_size = 30\n",
    "window_stride = 1\n",
    "\n",
    "columns = [j for j in bvhp.get_joints() if not j.startswith('_')]\n",
    "windows = [df.iloc[i:i + window_size] for i in range(0, len(df), window_stride) if i + window_size <= len(df)]\n",
    "# result_columns = ['time'] + [f'{joint}_{metric}' for joint in columns for metric in ['mean', 'var', 'corr', 'zero_cross', 'energy', 'entropy']]\n",
    "result_columns = ['time'] + [f'{joint}_{metric}' for joint in columns for metric in ['mean', 'var', 'corr', 'zero_cross', 'energy']]\n",
    "result_data = [calculate_features(window) for window in windows]\n",
    "result_df = pd.DataFrame(result_data, columns=result_columns)\n"
   ]
  },
  {
   "cell_type": "code",
   "execution_count": null,
   "metadata": {},
   "outputs": [],
   "source": [
    "# ラベル情報をもとにstateカラムを追加\n",
    "labels = [\n",
    "    {'num': 1, 'title': '冷蔵庫を開ける', 'times': [[11.366666666666665, 12.8], [34.26666666666666, 36.13333333333333], [40.39999999999999, 42.7], [56.433333333333344, 58.39999999999999], [78.46666666666667, 79.86666666666669], [104.89999999999999, 106.43333333333332], [134.1, 135.90000000000003]]},\n",
    "    {'num': 2, 'title': '冷蔵庫を閉める', 'times': [[13.833333333333334, 15.833333333333334], [36.36666666666667, 38.73333333333333], [42.800000000000004, 44.73333333333333], [58.73333333333333, 60.39999999999999], [83.40000000000002, 84.79999999999998], [107.26666666666667, 108.83333333333333], [136.2666666666667, 138.4333333333333]]}\n",
    "]\n",
    "\n",
    "result_df['state'] = 0  # 初期値として全ての行に0を設定\n",
    "\n",
    "for label in labels:\n",
    "    for time_range in label['times']:\n",
    "        start_time, end_time = time_range\n",
    "        result_df.loc[(result_df['time'] >= start_time) & (result_df['time'] <= end_time), 'state'] = label['num']\n",
    "\n",
    "# 結果をCSVファイルに書き出し\n",
    "result_df.to_csv('./logs/refrigerator_with_state.csv', index=False)"
   ]
  }
 ],
 "metadata": {
  "kernelspec": {
   "display_name": "Python 3",
   "language": "python",
   "name": "python3"
  },
  "language_info": {
   "codemirror_mode": {
    "name": "ipython",
    "version": 3
   },
   "file_extension": ".py",
   "mimetype": "text/x-python",
   "name": "python",
   "nbconvert_exporter": "python",
   "pygments_lexer": "ipython3",
   "version": "3.10.12"
  }
 },
 "nbformat": 4,
 "nbformat_minor": 2
}
