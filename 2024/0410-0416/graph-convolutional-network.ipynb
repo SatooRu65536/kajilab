{
 "cells": [
  {
   "attachments": {},
   "cell_type": "markdown",
   "metadata": {},
   "source": [
    "# Graph Convolutional Network\n",
    "このnotebookではGraph Convolional Networkの基礎の部分を噛み砕いて理解していきます．<br>\n",
    "数学的な説明も多少はしますが，基本的にはPyTorchで実装することで理解します．<br>\n",
    "では早速いってみよう！<br>\n",
    "\n",
    "## Graphとは\n",
    "結論から言うと点（ノード）と線（エッジ）で構成される構造全てエッジです！<br>\n",
    "一番イメージしやすい例で言うと分子結合でしょうか．<br>\n",
    "他にもSNSのフォロワーとか人体骨格とか画像だって画素が格子状繋がったグラフです．<br>\n",
    "グラフは$\\mathcal{G}=\\{\\mathcal{V,E}\\}$と表現でき，ノードの集合$\\mathcal{V}=\\{v_i\\mid i = 1, \\ldots,V\\}$とエッジの集合$\\mathcal{E}=\\{e_{ij}\\}$で構成されます．<br>\n",
    "ここで$V$はノードの数です．<br>\n",
    "急に数式が出てきましたが，今は「へえ，そんなのがあるんだ」程度で大丈夫です！<br>\n",
    "<br>\n",
    "ここからはFig.1に示した5つのノード$\\mathcal{V}=\\{v_1,v_2,v_3,v_4,v_5\\}$と5つのエッジ$\\mathcal{E}=\\{e_{12},e_{13},e_{15},e_{23},e_{34},\\}$で構成されたグラフを例に理解を進めていきます．<br>\n",
    "各ノード$v_i$は4つ四角で表現されている特徴量$\\mathbf{x}_i\\in\\mathbb{R}^{c}$を持っており，$v_j$とエッジ$e_{ij}$で接続されている．<br>\n",
    "ここで$c$は特徴量の次元で，図では$c=4$です．<br>\n",
    "<img src=\"asset/graph-convolutional-network/graph_structure.png\" width=\"512\"><br>\n",
    "*Fig.1 グラフ構造*<br>\n",
    "<br>\n",
    "ここで，グラフの特徴量は$\\mathbf{X}=[\\mathbf{x}_1,\\mathbf{x}_2,\\mathbf{x}_3,\\mathbf{x}_4,\\mathbf{x}_5]^\\top$のようにノードの特徴量を並べたものとなります(Fig.2)．<br>\n",
    "またエッジの接続は隣接行列$\\mathbf{A}\\in\\mathbb{R}^{V \\times V}$として表現できます．<br>\n",
    "隣接行列にはエッジの向きを表現できるものと，向きは考慮しないものがありますが，ここでは簡単のため向きは考慮しないものとします．<br>\n",
    "そうするとノード$v_i$と$v_j$の間にエッジがあると，隣接行列$\\mathbf{A}$の要素$a_{ij}=1$となり，ない場合は$a_{ij}=0$となります．<br>\n",
    "<img src=\"asset/graph-convolutional-network/matrix.png\" width=\"512\"><br>\n",
    "*Fig.2 グラフ特徴と隣接行列*<br>\n",
    "<br>\n",
    "では，実際にpythonの変数として定義してみましょう！<br>\n",
    "変数名は数式に合わせるため，pythonのコーディング規則には従っていません．<br>"
   ]
  },
  {
   "cell_type": "code",
   "execution_count": 64,
   "metadata": {},
   "outputs": [
    {
     "name": "stdout",
     "output_type": "stream",
     "text": [
      "エッジ: [[0, 1], [0, 2], [0, 4], [1, 2], [2, 3], [1, 0], [2, 0], [4, 0], [2, 1], [3, 2]]\n",
      "入力サイズ: (5, 4)\n",
      "隣接行列サイズ: (5, 5)\n"
     ]
    },
    {
     "data": {
      "image/png": "[encoded data removed]",
      "text/plain": [
       "<Figure size 640x480 with 2 Axes>"
      ]
     },
     "metadata": {},
     "output_type": "display_data"
    }
   ],
   "source": [
    "import numpy as np\n",
    "%matplotlib inline\n",
    "from matplotlib import pyplot as plt\n",
    "\n",
    "# グラフ特徴の定義\n",
    "# ここでは一括で乱数を用いて定義します．\n",
    "# あとあとの図示で差がわかりやすいように+1しています\n",
    "num_node = 5\n",
    "in_channels = 4\n",
    "X = np.random.randn(num_node, in_channels) + 1\n",
    "\n",
    "# エッジの定義\n",
    "E = [[0, 1], [0, 2], [0, 4], [1, 2], [2, 3]]\n",
    "\n",
    "# 向きを考慮しないので逆向きのエッジを定義\n",
    "reversed_E = [[j, i] for [i, j] in E]\n",
    "\n",
    "# エッジを足します\n",
    "new_E = E + reversed_E\n",
    "\n",
    "# エッジから隣接行列を作成する関数を定義します\n",
    "def edge2mat(E, num_node):\n",
    "    A = np.zeros((num_node, num_node))\n",
    "    for i, j in E:\n",
    "        A[j, i] = 1\n",
    "    return A\n",
    "\n",
    "# 隣接行列の作成\n",
    "A = edge2mat(new_E, num_node)  # ノードの数は5\n",
    "\n",
    "# 結果の出力\n",
    "print(f\"エッジ: {new_E}\")\n",
    "print(f\"入力サイズ: {X.shape}\")\n",
    "print(f\"隣接行列サイズ: {A.shape}\")\n",
    "\n",
    "fig, ax = plt.subplots(1, 2, width_ratios=[4, 5])\n",
    "ax[0].pcolor(X, cmap=plt.cm.Blues)\n",
    "ax[0].set_aspect('equal', 'box')\n",
    "ax[0].set_title('X', fontsize=10)\n",
    "ax[0].invert_yaxis()\n",
    "\n",
    "ax[1].pcolor(A, cmap=plt.cm.Blues)\n",
    "ax[1].set_aspect('equal', 'box')\n",
    "ax[1].set_title('A', fontsize=10)\n",
    "ax[1].invert_yaxis()"
   ]
  },
  {
   "attachments": {},
   "cell_type": "markdown",
   "metadata": {},
   "source": [
    "どうでしょうか？Fig.2と同じような出力が確認できましたね！<br>\n",
    "エッジから隣接行列に変換する部分が少しややこしいくらいであとは特に難しい処理はしてません．<br>\n",
    "<br>\n",
    "この隣接行列は自身への接続が考慮されていないので，単位行列$\\mathbf{I}\\in\\mathbb{R}^{V\\times V}$を追加して自己ループを考慮します．<br>\n",
    "自己ループを追加した隣接行列$\\tilde{\\mathbf{A}}=\\mathbf{A+I}$はFig.3のような行列になります<br>\n",
    "<img src=\"asset/graph-convolutional-network/self_loop.png\" width=\"512\"><br>\n",
    "*Fig.3 自己ループを考慮した隣接行列*<br>\n",
    "<br>\n",
    "よって上記のソースコードは以下のように修正されます．"
   ]
  },
  {
   "cell_type": "code",
   "execution_count": 65,
   "metadata": {},
   "outputs": [
    {
     "data": {
      "image/png": "[encoded data removed]",
      "text/plain": [
       "<Figure size 640x480 with 2 Axes>"
      ]
     },
     "metadata": {},
     "output_type": "display_data"
    }
   ],
   "source": [
    "# エッジの定義\n",
    "E = [[0, 1], [0, 2], [0, 4], [1, 2], [2, 3]]\n",
    "reversed_E = [[j, i] for [i, j] in E]\n",
    "new_E = E + reversed_E\n",
    "\n",
    "# 自己ループ\n",
    "I = [[i, i] for i in range(num_node)] \n",
    "\n",
    "# 隣接行列の作成\n",
    "A_tilde = edge2mat(new_E + I, num_node)  # Iが追加\n",
    "\n",
    "fig, ax = plt.subplots(1, 2, width_ratios=[4, 5])\n",
    "ax[0].pcolor(X, cmap=plt.cm.Blues)\n",
    "ax[0].set_aspect('equal', 'box')\n",
    "ax[0].set_title('X', fontsize=10)\n",
    "ax[0].invert_yaxis()\n",
    "\n",
    "ax[1].pcolor(A_tilde, cmap=plt.cm.Blues)\n",
    "ax[1].set_aspect('equal', 'box')\n",
    "ax[1].set_title('A_tilde', fontsize=10)\n",
    "ax[1].invert_yaxis()"
   ]
  },
  {
   "attachments": {},
   "cell_type": "markdown",
   "metadata": {},
   "source": [
    "グラフ構造はなんとなく理解できてきましたか？<br>\n",
    "ではようやくグラフ畳み込みを理解していきましょう！<br>\n",
    "\n",
    "## 隣接行列を持ちいたノードの集約\n",
    "ここでは隣接行列$\\mathbf{A}$を用いてノード特徴$\\mathbf{X}$を集約していきます．<br>\n",
    "なんとここまでくればドット積するだけで集約はできます．<br>\n",
    "<img src=\"asset/graph-convolutional-network/ax.png\" width=\"512\"><br>\n",
    "Fig.4 ドット積<br>\n",
    "<br>\n",
    "Fig.4のオレンジで囲ってある部分を行列計算してみください．<br>\n",
    "<br>\n",
    "$$\n",
    "[1,1,1,0,1]\n",
    "\\left[\n",
    "\\begin{array}{c}\n",
    "v_1 \\\\\n",
    "v_2 \\\\\n",
    "v_3 \\\\\n",
    "v_4 \\\\\n",
    "v_5 \\\\\n",
    "\\end{array}\n",
    "\\right]\n",
    "= v_1 + v_2 + v_3 + v_5 \n",
    "$$\n",
    "<br>\n",
    "隣接行列のおかげで隣接ノードの特徴のみが足し合わされましたね！<br>\n",
    "では実際この計算をpythonでやってみましょう"
   ]
  },
  {
   "cell_type": "code",
   "execution_count": 66,
   "metadata": {},
   "outputs": [
    {
     "data": {
      "image/png": "[encoded data removed]",
      "text/plain": [
       "<Figure size 640x480 with 2 Axes>"
      ]
     },
     "metadata": {},
     "output_type": "display_data"
    }
   ],
   "source": [
    "# 行列計算\n",
    "new_X = A_tilde @ X\n",
    "\n",
    "# 結果の図示\n",
    "fig, ax = plt.subplots(1, 2, width_ratios=[4, 4])\n",
    "ax[0].pcolor(X, cmap=plt.cm.Blues, vmin=-1, vmax=5)\n",
    "ax[0].set_aspect('equal', 'box')\n",
    "ax[0].set_title('X', fontsize=10)\n",
    "ax[0].invert_yaxis()\n",
    "\n",
    "ax[1].pcolor(new_X, cmap=plt.cm.Blues, vmin=-1, vmax=5)\n",
    "ax[1].set_aspect('equal', 'box')\n",
    "ax[1].set_title('new_X', fontsize=10)\n",
    "ax[1].invert_yaxis()\n"
   ]
  },
  {
   "attachments": {},
   "cell_type": "markdown",
   "metadata": {},
   "source": [
    "どうでしょう？<br>\n",
    "なんかノードによって偏りが出ていますね．<br>\n",
    "それもそのはずで，$v_1$なんかは4つのノードと接続されているのに対し，$v_5$は2つだけしか接続されていません．<br>\n",
    "<br>\n",
    "では，どうしたらいいでしょう？\n",
    "<br>\n",
    "一番簡単なのは，合計ではなく平均で集約してしまうことですね．<br>\n",
    "グラフの分野では次数行列と呼ばれる接続ノードの数を表す行列$\\tilde{\\mathbf{D}}$を用います<br>\n",
    "(~がついているのは$\\tilde{\\mathbf{A}}$と対応していることを示すためです）<br>\n",
    "次数行列の各要素は$\\tilde{d}_{ii}=\\sum_{j=1}^{V}\\tilde{a}_{ij}$と計算できます(Fig.5)．<br>\n",
    "<img src=\"asset/graph-convolutional-network/d.png\" width=\"512\"><br>\n",
    "*Fig.5 次数行列*<br>\n",
    "<br>\n",
    "\n",
    "次数行列を用いると平均による集約は$\\tilde{\\mathbf{D}}^{-1}\\tilde{\\mathbf{A}}\\mathbf{X}$と計算ができます．<br>\n",
    "実際にpythonで計算してみましょう."
   ]
  },
  {
   "cell_type": "code",
   "execution_count": 67,
   "metadata": {},
   "outputs": [
    {
     "data": {
      "image/png": "[encoded data removed]",
      "text/plain": [
       "<Figure size 640x480 with 2 Axes>"
      ]
     },
     "metadata": {},
     "output_type": "display_data"
    }
   ],
   "source": [
    "# 次数行列を計算する関数\n",
    "# 行列のn乗の処理をあとあとするのはめんどくさいのでここで実装しておく\n",
    "def get_D(A, pow=-1):\n",
    "    d_ii = np.sum(A, 0)\n",
    "    D = np.zeros_like(A)\n",
    "    for i in range(len(A)):\n",
    "        D[i, i] = d_ii[i]**(pow)\n",
    "    return D\n",
    "\n",
    "# 次数行列\n",
    "D_tilde = get_D(A_tilde)\n",
    "\n",
    "# 行列計算\n",
    "new_X = D_tilde @ A_tilde @ X\n",
    "\n",
    "# 結果の図示\n",
    "fig, ax = plt.subplots(1, 2, width_ratios=[4, 4])\n",
    "ax[0].pcolor(X, cmap=plt.cm.Blues, vmin=-1, vmax=5)\n",
    "ax[0].set_aspect('equal', 'box')\n",
    "ax[0].set_title('X', fontsize=10)\n",
    "ax[0].invert_yaxis()\n",
    "\n",
    "ax[1].pcolor(new_X, cmap=plt.cm.Blues, vmin=-1, vmax=5)\n",
    "ax[1].set_aspect('equal', 'box')\n",
    "ax[1].set_title('new_X', fontsize=10)\n",
    "ax[1].invert_yaxis()"
   ]
  },
  {
   "attachments": {},
   "cell_type": "markdown",
   "metadata": {},
   "source": [
    "どうでしょうか？<br>\n",
    "さっきよりも満遍なく集約できていますね．<br>\n",
    "実際にGCNでは平均よりも$\\tilde{\\mathbf{D}}^{-\\frac{1}{2}}\\tilde{\\mathbf{A}}\\tilde{\\mathbf{D}}^{-\\frac{1}{2}}\\mathbf{X}$のような正規化が使われることが多いです．<br>\n",
    "他にもこの辺りは研究されていて，中心ノードからの距離によって接続の強さを変えたり，エッジの向きごとに正規化したりなどがあります．<br>\n",
    "ちなみに$\\tilde{\\mathbf{D}}^{-1}\\tilde{\\mathbf{A}}\\mathbf{X}$と$\\tilde{\\mathbf{D}}^{-\\frac{1}{2}}\\tilde{\\mathbf{A}}\\tilde{\\mathbf{D}}^{-\\frac{1}{2}}\\mathbf{X}$の差は実装してみると早いですが，対称行列になっていますね<br>"
   ]
  },
  {
   "cell_type": "code",
   "execution_count": 68,
   "metadata": {},
   "outputs": [
    {
     "data": {
      "image/png": "[encoded data removed]",
      "text/plain": [
       "<Figure size 640x480 with 2 Axes>"
      ]
     },
     "metadata": {},
     "output_type": "display_data"
    }
   ],
   "source": [
    "# DA\n",
    "D_tilde = get_D(A_tilde, pow=-1)\n",
    "DA = D_tilde @ A_tilde\n",
    "\n",
    "# DAD\n",
    "D_tilde = get_D(A_tilde, pow=-0.5)\n",
    "DAD = D_tilde @ A_tilde @ D_tilde\n",
    "\n",
    "# 結果の図示\n",
    "fig, ax = plt.subplots(1, 2, width_ratios=[5, 5])\n",
    "ax[0].pcolor(DA, cmap=plt.cm.Blues)\n",
    "ax[0].set_aspect('equal', 'box')\n",
    "ax[0].set_title('DA', fontsize=10)\n",
    "ax[0].invert_yaxis()\n",
    "\n",
    "ax[1].pcolor(DAD, cmap=plt.cm.Blues)\n",
    "ax[1].set_aspect('equal', 'box')\n",
    "ax[1].set_title('DAD', fontsize=10)\n",
    "ax[1].invert_yaxis()"
   ]
  },
  {
   "attachments": {},
   "cell_type": "markdown",
   "metadata": {},
   "source": [
    "さて，なんとなく集約の方法は理解できてきましたか？<br>\n",
    "ただ，これではただ平均しているだけで学習できてませんね．<br>\n",
    "ここから学習可能な重み導入していきます！<br>\n",
    "\n",
    "## 畳み込み演算\n",
    "画像のCNNを思い出してみてください．<br>\n",
    "縦のエッジを捉えるカーネルや斜めのエッジを捉えるカーネルの重みを用いて加重平均することで情報を周囲のピクセルの情報を集約していましたよね（Fig.6）<br>\n",
    "<img src=\"asset/graph-convolutional-network/cnn.png\" width=\"512\"><br>\n",
    "*Fig.6 CNNの畳み込みのイメージ*<br>\n",
    "<br>\n",
    "しかし，グラフではノードによって隣接ノードの数が違うので，3x3カーネルのような固定の重みを使うことができません．<br>\n",
    "そこでエッジの重みを学習することで代用します．<br>\n",
    "隣接ノードの特徴$\\mathbf{x}$が$\\mathbf{W}$によって重み付けされて集約されます（Fig.7）．<br>\n",
    "<img src=\"asset/graph-convolutional-network/gcn.png\" width=\"512\"><br>\n",
    "*Fig.7 エッジの重み付け*<br>\n",
    "<br>\n",
    "数式では$\\tilde{\\mathbf{D}}^{-\\frac{1}{2}}\\tilde{\\mathbf{A}}\\tilde{\\mathbf{D}}^{-\\frac{1}{2}}\\mathbf{X}\\mathbf{W}$のように表現できる．<bf>\n",
    "ここで$\\mathbf{W}\\in\\mathbb{R}^{c\\times c_{out}}$となります．<br>\n",
    "数式通り実装すると以下のようになります．"
   ]
  },
  {
   "cell_type": "code",
   "execution_count": 69,
   "metadata": {},
   "outputs": [
    {
     "data": {
      "image/png": "[encoded data removed]",
      "text/plain": [
       "<Figure size 640x480 with 2 Axes>"
      ]
     },
     "metadata": {},
     "output_type": "display_data"
    }
   ],
   "source": [
    "import torch\n",
    "from torch import nn\n",
    "\n",
    "# この実装からは適宜pytorchを用います\n",
    "# 各行列をTensorに変換\n",
    "X_tensor = torch.tensor(X, dtype=torch.float32)\n",
    "A_tensor = torch.tensor(A_tilde, dtype=torch.float32)\n",
    "D_tensor = torch.tensor(D_tilde, dtype=torch.float32)\n",
    "\n",
    "# 重みを設定\n",
    "# 出力channelsは8とする\n",
    "out_channels = 8\n",
    "W_tensor = nn.Parameter(torch.randn((in_channels, out_channels)))\n",
    "\n",
    "# 行列計算\n",
    "XW = X_tensor @ W_tensor\n",
    "new_X_tensor = D_tensor @ A_tensor @ D_tensor @ XW\n",
    "new_X = new_X_tensor.detach().numpy()\n",
    "\n",
    "# 結果の図示\n",
    "fig, ax = plt.subplots(1, 2, width_ratios=[4, 8])\n",
    "ax[0].pcolor(X, cmap=plt.cm.Blues)\n",
    "ax[0].set_aspect('equal', 'box')\n",
    "ax[0].set_title('X', fontsize=10)\n",
    "ax[0].invert_yaxis()\n",
    "\n",
    "ax[1].pcolor(new_X, cmap=plt.cm.Blues)\n",
    "ax[1].set_aspect('equal', 'box')\n",
    "ax[1].set_title('new_X', fontsize=10)\n",
    "ax[1].invert_yaxis()"
   ]
  },
  {
   "attachments": {},
   "cell_type": "markdown",
   "metadata": {},
   "source": [
    "実際の学習では，このWの重みを学習することによって重要度の低いノードの重みは小さく，重要度の高いノードの重みは大きくなるように更新します．<br>\n",
    "また，上記の実装をCNNらしく実装してみましょう．<br>\n",
    "つまり$1\\times V$の画像と考え，1x1のカーネルで畳み込みます．<br>\n",
    "<img src=\"asset/graph-convolutional-network/gcn_like_cnn.png\" width=\"512\"><br>\n",
    "*Fig.8 CNNに則したGCNのイメージ*<br>\n",
    "<br>"
   ]
  },
  {
   "cell_type": "code",
   "execution_count": 70,
   "metadata": {},
   "outputs": [
    {
     "ename": "ModuleNotFoundError",
     "evalue": "No module named 'einops'",
     "output_type": "error",
     "traceback": [
      "\u001b[0;31m---------------------------------------------------------------------------\u001b[0m",
      "\u001b[0;31mModuleNotFoundError\u001b[0m                       Traceback (most recent call last)",
      "Cell \u001b[0;32mIn[70], line 1\u001b[0m\n\u001b[0;32m----> 1\u001b[0m \u001b[38;5;28;01mfrom\u001b[39;00m \u001b[38;5;21;01meinops\u001b[39;00m \u001b[38;5;28;01mimport\u001b[39;00m rearrange\n\u001b[1;32m      3\u001b[0m X_tensor \u001b[38;5;241m=\u001b[39m torch\u001b[38;5;241m.\u001b[39mtensor(X, dtype\u001b[38;5;241m=\u001b[39mtorch\u001b[38;5;241m.\u001b[39mfloat32)\n\u001b[1;32m      4\u001b[0m X_tensor \u001b[38;5;241m=\u001b[39m rearrange(X_tensor, \u001b[38;5;124m\"\u001b[39m\u001b[38;5;124mV C -> C 1 V\u001b[39m\u001b[38;5;124m\"\u001b[39m)\n",
      "\u001b[0;31mModuleNotFoundError\u001b[0m: No module named 'einops'"
     ]
    }
   ],
   "source": [
    "from einops import rearrange\n",
    "\n",
    "X_tensor = torch.tensor(X, dtype=torch.float32)\n",
    "X_tensor = rearrange(X_tensor, \"V C -> C 1 V\")\n",
    "A_tensor = torch.tensor(A_tilde, dtype=torch.float32)\n",
    "D_tensor = torch.tensor(D_tilde, dtype=torch.float32)\n",
    "\n",
    "# 重みをConvとして設定\n",
    "conv = nn.Conv2d(in_channels, out_channels, kernel_size=1)\n",
    "\n",
    "# 行列計算\n",
    "XW = conv(X_tensor)\n",
    "XW = rearrange(XW, \"C 1 V -> V C\")\n",
    "new_X_tensor = D_tensor @ A_tensor @ D_tensor @ XW\n",
    "# # einsumでも可能\n",
    "# new_X_tensor = torch.einsum(\"cjv, iv -> cji\", XW, D_tensor @ A_tensor @ D_tensor)\n",
    "# new_X_tensor = rearrange(new_X_tensor, \"C 1 V -> V C\")\n",
    "new_X = new_X_tensor.detach().numpy()\n",
    "\n",
    "# 結果の図示\n",
    "fig, ax = plt.subplots(1, 2, width_ratios=[4, 8])\n",
    "ax[0].pcolor(X, cmap=plt.cm.Blues)\n",
    "ax[0].set_aspect('equal', 'box')\n",
    "ax[0].set_title('X', fontsize=10)\n",
    "ax[0].invert_yaxis()\n",
    "\n",
    "ax[1].pcolor(new_X, cmap=plt.cm.Blues)\n",
    "ax[1].set_aspect('equal', 'box')\n",
    "ax[1].set_title('new_X', fontsize=10)\n",
    "ax[1].invert_yaxis()"
   ]
  },
  {
   "attachments": {},
   "cell_type": "markdown",
   "metadata": {},
   "source": [
    "PyTorchの`nn.Conv2d`を用いても同様の実装ができました．<br>\n",
    "軸を増やす処理が増えるので手間かもしれませんが，例えば時系列のグラフを扱う時などはCxTxVとして入力することで一気に計算ができたりして便利ですね．<br>\n",
    "行動認識モデルであるST-GCNは`nn.Conv2d`で実装されています．\n",
    "\n",
    "## PyTroch Layerを作ってみる\n",
    "\n",
    "最後に`nn.Linear`などと組み合わせて使えるように自作レイヤーとして定義してみます"
   ]
  },
  {
   "cell_type": "code",
   "execution_count": null,
   "metadata": {},
   "outputs": [],
   "source": [
    "class GraphConv(nn.Module):\n",
    "    def __init__(self, in_features, out_features):\n",
    "        super(GraphConv, self).__init__()\n",
    "        self.in_features = in_features\n",
    "        self.out_features = out_features\n",
    "        self.conv = nn.Conv2d(in_channels, out_channels, kernel_size=1)\n",
    "        \n",
    "    def forward(self, input, adj):\n",
    "        \"\"\"\n",
    "        Args:\n",
    "            input (Tensor): graph feature\n",
    "                            input.size() = (N, V, C)\n",
    "            adj (Tensor): normalized adjacency matrix.\n",
    "                          e.g. DAD or DA\n",
    "                          input.size() = (V, V)\n",
    "        Returns:\n",
    "            Tensor: out.size() = (N, V, C_out)\n",
    "        \"\"\"\n",
    "        input = rearrange(input, \"N V C -> N C 1 V\")\n",
    "        XW = self.conv(input)\n",
    "        DADXW = torch.einsum('NCTV,VW->NCTW', XW, adj)\n",
    "        DADXW = rearrange(DADXW, \"N C 1 V -> N V C\")\n",
    "        return DADXW"
   ]
  },
  {
   "cell_type": "code",
   "execution_count": null,
   "metadata": {},
   "outputs": [
    {
     "data": {
      "image/png": "[encoded data removed]",
      "text/plain": [
       "<Figure size 640x480 with 2 Axes>"
      ]
     },
     "metadata": {},
     "output_type": "display_data"
    }
   ],
   "source": [
    "from torch.utils.data import TensorDataset, DataLoader\n",
    "\n",
    "# フェイクデータ\n",
    "X = np.random.randn(10, num_node, in_channels)\n",
    "y = [0] * 5 + [1] * 5\n",
    "X_tensor = torch.tensor(X, dtype=torch.float32)\n",
    "y_tensor = torch.tensor(y, dtype=torch.int64)\n",
    "data = TensorDataset(X_tensor, y_tensor)\n",
    "loader = DataLoader(data, batch_size=4)\n",
    "\n",
    "# DADの定義\n",
    "A_tensor = torch.tensor(A_tilde, dtype=torch.float32)\n",
    "D_tensor = torch.tensor(D_tilde, dtype=torch.float32)\n",
    "DAD = D_tensor @ A_tensor @ D_tensor\n",
    "\n",
    "# モデルの定義\n",
    "model = GraphConv(in_channels, out_channels)\n",
    "\n",
    "# バッチ処理\n",
    "for input, label in loader:\n",
    "    new_X_tensor = model(input, DAD)\n",
    "    new_X = new_X_tensor.detach().numpy()\n",
    "\n",
    "# 結果の図示\n",
    "fig, ax = plt.subplots(1, 2, width_ratios=[4, 8])\n",
    "ax[0].pcolor(X[0], cmap=plt.cm.Blues)\n",
    "ax[0].set_aspect('equal', 'box')\n",
    "ax[0].set_title('X', fontsize=10)\n",
    "ax[0].invert_yaxis()\n",
    "\n",
    "ax[1].pcolor(new_X[0], cmap=plt.cm.Blues)\n",
    "ax[1].set_aspect('equal', 'box')\n",
    "ax[1].set_title('new_X', fontsize=10)\n",
    "ax[1].invert_yaxis()"
   ]
  }
 ],
 "metadata": {
  "kernelspec": {
   "display_name": ".venv",
   "language": "python",
   "name": "python3"
  },
  "language_info": {
   "codemirror_mode": {
    "name": "ipython",
    "version": 3
   },
   "file_extension": ".py",
   "mimetype": "text/x-python",
   "name": "python",
   "nbconvert_exporter": "python",
   "pygments_lexer": "ipython3",
   "version": "3.10.12"
  },
  "orig_nbformat": 4,
  "vscode": {
   "interpreter": {
    "hash": "5f1ea63b34f86dd5fb2d404b2aa286ea1545824c716fe6d9de925fa463d8007d"
   }
  }
 },
 "nbformat": 4,
 "nbformat_minor": 2
}
