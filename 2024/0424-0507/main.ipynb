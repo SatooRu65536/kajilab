{
 "cells": [
  {
   "cell_type": "code",
   "execution_count": null,
   "metadata": {},
   "outputs": [],
   "source": [
    "from persor import BVHparser\n",
    "from scipy.spatial.transform import Rotation\n",
    "import matplotlib.pyplot as plt\n",
    "import numpy as np\n",
    "import copy\n"
   ]
  },
  {
   "cell_type": "code",
   "execution_count": null,
   "metadata": {},
   "outputs": [],
   "source": [
    "def get_joint_coords(skeleton, joint, coords):\n",
    "    offset = skeleton[joint][\"offset\"]\n",
    "    parent_joint = skeleton[joint][\"joint\"]\n",
    "    child_joints = skeleton[joint][\"children\"]\n",
    "\n",
    "    if parent_joint == None:\n",
    "        return\n",
    "\n",
    "    parent_coord = coords[parent_joint][\"coord\"]\n",
    "\n",
    "    current_coord = [\n",
    "        parent_coord[0] + offset[0],\n",
    "        parent_coord[1] + offset[1],\n",
    "        parent_coord[2] + offset[2],\n",
    "    ]\n",
    "    coords[joint] = {\"coord\": current_coord, \"parent\": parent_joint}\n",
    "\n",
    "    for child in child_joints:\n",
    "        get_joint_coords(skeleton, child, coords)\n",
    "\n",
    "\n",
    "def skelton2coords(skeleton):\n",
    "    coords = {\"root\": {\"coord\": skeleton[\"root\"][\"offset\"], \"parent\": None}}\n",
    "    skeleton[\"root\"]\n",
    "\n",
    "    child_joints = skeleton[\"root\"][\"children\"]\n",
    "    for child in child_joints:\n",
    "        get_joint_coords(skeleton, child, coords)\n",
    "\n",
    "    get_joint_coords(skeleton, \"root\", coords)\n",
    "\n",
    "    return coords\n",
    "\n",
    "\n",
    "def rotated_coord(coord, frame):\n",
    "    coord_copy = copy.deepcopy(coord)\n",
    "    for joint, data in coord_copy.items():\n",
    "        if joint == \"root\":\n",
    "            continue\n",
    "\n",
    "        x_rotate = np.deg2rad(frame[f\"{joint}_Xrotation\"])\n",
    "        y_rotate = np.deg2rad(frame[f\"{joint}_Yrotation\"])\n",
    "        z_rotate = np.deg2rad(frame[f\"{joint}_Zrotation\"])\n",
    "\n",
    "        rot = Rotation.from_rotvec(np.array([x_rotate, y_rotate, z_rotate]))\n",
    "        coord_copy[joint][\"coord\"] = rot.apply(data[\"coord\"])\n",
    "\n",
    "    return coord_copy"
   ]
  },
  {
   "cell_type": "code",
   "execution_count": null,
   "metadata": {},
   "outputs": [],
   "source": [
    "bvhp = BVHparser(\"./data/jump.bvh\")\n"
   ]
  },
  {
   "cell_type": "code",
   "execution_count": null,
   "metadata": {},
   "outputs": [],
   "source": [
    "skeleton = bvhp.get_skeleton()\n",
    "motion_df = bvhp.get_motion_df()\n",
    "motion_frame = motion_df.iloc[100, :]\n",
    "\n",
    "coords = skelton2coords(skeleton)\n",
    "coord_rotated = rotated_coord(skeleton, motion_frame)\n"
   ]
  },
  {
   "cell_type": "code",
   "execution_count": null,
   "metadata": {},
   "outputs": [],
   "source": [
    "import matplotlib.pyplot as plt\n",
    "import japanize_matplotlib"
   ]
  },
  {
   "cell_type": "code",
   "execution_count": null,
   "metadata": {},
   "outputs": [],
   "source": [
    "def plot_skeleton(coords, title=\"骨格\"):\n",
    "    fig = plt.figure()\n",
    "    ax = fig.add_subplot(projection=\"3d\")\n",
    "    for joint, coord in coords.items():\n",
    "        if coord[\"parent\"] == None:\n",
    "            continue\n",
    "        parent_coord = coords[coord[\"parent\"]][\"coord\"]\n",
    "        ax.plot(\n",
    "            [parent_coord[0], coord[\"coord\"][0]],\n",
    "            [parent_coord[2], coord[\"coord\"][2]],\n",
    "            [parent_coord[1], coord[\"coord\"][1]],\n",
    "            marker=\"o\",\n",
    "        )\n",
    "    plt.title(title)\n",
    "    plt.xlabel(\"x[m]\")\n",
    "    plt.ylabel(\"y[m]\")\n",
    "    plt.ylabel(\"z[m]\")\n",
    "    ax.set_xlim(-90, 90)\n",
    "    ax.set_ylim(-90, 90)\n",
    "    ax.set_zlim(0, 190)\n",
    "\n",
    "    plt.show()"
   ]
  },
  {
   "cell_type": "code",
   "execution_count": null,
   "metadata": {},
   "outputs": [],
   "source": [
    "plot_skeleton(coords, \"元の骨格\")\n",
    "plot_skeleton(coord_rotated, \"回転後の骨格\")"
   ]
  },
  {
   "cell_type": "code",
   "execution_count": null,
   "metadata": {},
   "outputs": [],
   "source": [
    "print(coords)"
   ]
  }
 ],
 "metadata": {
  "kernelspec": {
   "display_name": "Python 3",
   "language": "python",
   "name": "python3"
  },
  "language_info": {
   "codemirror_mode": {
    "name": "ipython",
    "version": 3
   },
   "file_extension": ".py",
   "mimetype": "text/x-python",
   "name": "python",
   "nbconvert_exporter": "python",
   "pygments_lexer": "ipython3",
   "version": "3.10.12"
  }
 },
 "nbformat": 4,
 "nbformat_minor": 2
}
