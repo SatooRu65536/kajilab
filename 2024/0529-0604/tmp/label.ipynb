{
 "cells": [
  {
   "cell_type": "code",
   "execution_count": 1,
   "metadata": {},
   "outputs": [],
   "source": [
    "import os\n",
    "import copy\n",
    "import numpy as np\n",
    "import pandas as pd\n",
    "from persor import BVHparser\n",
    "from scipy.spatial.transform import Rotation"
   ]
  },
  {
   "cell_type": "code",
   "execution_count": 2,
   "metadata": {},
   "outputs": [],
   "source": [
    "def get_joint_coords(skeleton, joint, coords):\n",
    "    offset = skeleton[joint][\"offset\"]\n",
    "    parent_joint = skeleton[joint][\"joint\"]\n",
    "    child_joints = skeleton[joint][\"children\"]\n",
    "\n",
    "    if parent_joint == None:\n",
    "        return\n",
    "\n",
    "    parent_coord = coords[parent_joint][\"coord\"]\n",
    "\n",
    "    current_coord = [\n",
    "        parent_coord[0] + offset[0],\n",
    "        parent_coord[1] + offset[1],\n",
    "        parent_coord[2] + offset[2],\n",
    "    ]\n",
    "    coords[joint] = {\"coord\": current_coord, \"parent\": parent_joint}\n",
    "\n",
    "    for child in child_joints:\n",
    "        get_joint_coords(skeleton, child, coords)\n",
    "\n",
    "\n",
    "def skelton2coords(skeleton):\n",
    "    coords = {\"root\": {\"coord\": skeleton[\"root\"][\"offset\"], \"parent\": None}}\n",
    "    skeleton[\"root\"]\n",
    "\n",
    "    child_joints = skeleton[\"root\"][\"children\"]\n",
    "    for child in child_joints:\n",
    "        get_joint_coords(skeleton, child, coords)\n",
    "\n",
    "    get_joint_coords(skeleton, \"root\", coords)\n",
    "\n",
    "    return coords\n",
    "\n",
    "\n",
    "def rotated_offset(skeleton, frame):\n",
    "    skeleton_copy = copy.deepcopy(skeleton)\n",
    "    for joint, data in skeleton_copy.items():\n",
    "        if joint == \"root\" or joint.startswith(\"_\"):\n",
    "            continue\n",
    "\n",
    "        x_rotate = np.deg2rad(frame[f\"{joint}_Xrotation\"])\n",
    "        y_rotate = np.deg2rad(frame[f\"{joint}_Yrotation\"])\n",
    "        z_rotate = np.deg2rad(frame[f\"{joint}_Zrotation\"])\n",
    "\n",
    "        rot = Rotation.from_rotvec(np.array([y_rotate, x_rotate, z_rotate]))\n",
    "        skeleton_copy[joint][\"offset\"] = rot.apply(data[\"offset\"])\n",
    "\n",
    "    return skeleton_copy\n",
    "\n",
    "\n",
    "def convert2coordDict(df, skeleton):\n",
    "    df = df.copy()\n",
    "    data = []\n",
    "    for i in range(len(df)):\n",
    "        skeleton_rotated = rotated_offset(skeleton, df.iloc[i])\n",
    "        coords = skelton2coords(skeleton_rotated)\n",
    "        data.append(coords)\n",
    "\n",
    "    return np.array(data)\n",
    "\n",
    "\n",
    "def coord_dict2coords_array(coords_dict):\n",
    "    return np.array(\n",
    "        [[data[\"coord\"] for joint, data in coords.items()] for coords in coords_dict]\n",
    "    )\n",
    "\n",
    "def split_by_label_obj(df, label_obj):\n"
   ]
  },
  {
   "cell_type": "code",
   "execution_count": 3,
   "metadata": {},
   "outputs": [],
   "source": [
    "# ./no_meaning 以下のファイル名を取得\n",
    "folder = \"./data\"\n",
    "files = [f\"{folder}/{f}\" for f in os.listdir(folder)]\n",
    "\n",
    "# 1. 体を曲げる運動\n",
    "# 2. 両手を上げ下げ\n",
    "# 3. 体を捻る\n",
    "# 4. ジャンプ\n",
    "# 5. 何もしない"
   ]
  },
  {
   "cell_type": "markdown",
   "metadata": {},
   "source": [
    "## 訓練用データを生成するよ"
   ]
  },
  {
   "cell_type": "code",
   "execution_count": 4,
   "metadata": {},
   "outputs": [],
   "source": [
    "bending_exercise_bvhp = BVHparser(\"./data/bvh/bending_exercise.bvh\")\n",
    "bending_exercise_motion_df = bending_exercise_bvhp.get_motion_df()\n",
    "bending_exercise_motion_df[\"label\"] = 1\n",
    "\n",
    "hands_updown_bvhp = BVHparser(\"./data/bvh/hands_updown.bvh\")\n",
    "hands_updown_motion_df = hands_updown_bvhp.get_motion_df()\n",
    "hands_updown_motion_df[\"label\"] = 2\n",
    "\n",
    "twist_your_body_bvhp = BVHparser(\"./data/bvh/twist_your_body.bvh\")\n",
    "twist_your_body_motion_df = twist_your_body_bvhp.get_motion_df()\n",
    "twist_your_body_motion_df[\"label\"] = 3\n",
    "\n",
    "jump_bvhp = BVHparser(\"./data/bvh/jump.bvh\")\n",
    "jump_motion_df = jump_bvhp.get_motion_df()\n",
    "jump_motion_df[\"label\"] = 4\n",
    "\n",
    "do_nothing_bvhp = BVHparser(\"./data/bvh/do_nothing.bvh\")\n",
    "do_nothing_motion_df = do_nothing_bvhp.get_motion_df()\n",
    "do_nothing_motion_df[\"label\"] = 5\n",
    "\n",
    "skeleton = bending_exercise_bvhp.get_skeleton()\n",
    "\n",
    "# 訓練データを作成\n",
    "train_data_dict = convert2coordDict(motion_df, skeleton)\n",
    "train_data = coord_dict2coords_array(train_data_dict)\n",
    "\n",
    "# train_data を npy ファイルに保存\n",
    "np.save(\"data/train_data.npy\", train_data)\n",
    "\n",
    "# ラベルを npy ファイルに保存\n",
    "np.save(\"data/train_label.npy\", motion_df[\"label\"].values)"
   ]
  },
  {
   "cell_type": "markdown",
   "metadata": {},
   "source": [
    "## テスト用データを生成するよ"
   ]
  },
  {
   "cell_type": "code",
   "execution_count": 5,
   "metadata": {},
   "outputs": [],
   "source": [
    "all1_bvhp = BVHparser(\"./data/bvh/all1.bvh\")\n",
    "all1_motion_df = all1_bvhp.get_motion_df()\n",
    "all1_motion_df[\"label\"] = 0\n",
    "\n",
    "all2_bvhp = BVHparser(\"./data/bvh/all2.bvh\")\n",
    "all2_motion_df = all2_bvhp.get_motion_df()\n",
    "all2_motion_df[\"label\"] = 0\n",
    "\n",
    "# 全ての motion_df を結合\n",
    "motion_df = pd.concat(\n",
    "    [\n",
    "        all1_motion_df,\n",
    "        all2_motion_df,\n",
    "    ]\n",
    ")\n",
    "\n",
    "# テストデータを作成\n",
    "skeleton = all1_bvhp.get_skeleton()\n",
    "test_data_dict = convert2coordDict(motion_df, skeleton)\n",
    "test_data = coord_dict2coords_array(test_data_dict)\n",
    "\n",
    "# test_data を npy ファイルに保存\n",
    "np.save(\"data/test_data.npy\", test_data)\n",
    "\n",
    "# motion_df から label を取り出し、np.array に変換\n",
    "np.save(\"data/test_label.npy\", motion_df[\"label\"].values)"
   ]
  },
  {
   "cell_type": "markdown",
   "metadata": {},
   "source": [
    "# 骨格情報を生成するよ"
   ]
  },
  {
   "cell_type": "code",
   "execution_count": 6,
   "metadata": {},
   "outputs": [
    {
     "name": "stdout",
     "output_type": "stream",
     "text": [
      "[[ 0.00000000e+00  9.32929000e+01  0.00000000e+00]\n",
      " [ 0.00000000e+00  9.83715700e+01 -1.15138000e+00]\n",
      " [ 0.00000000e+00  1.03988180e+02 -7.99500000e-02]\n",
      " [-1.02604000e-17  1.09977960e+02  3.50600000e-02]\n",
      " [-2.13061000e-17  1.16483790e+02 -4.08463000e-01]\n",
      " [-4.10356000e-17  1.24089270e+02 -1.91439300e+00]\n",
      " [-6.63663000e-17  1.33586640e+02 -2.82888500e+00]\n",
      " [-9.54064000e-17  1.44137940e+02 -1.25197500e+00]\n",
      " [-1.08325700e-16  1.48924380e+02 -5.36636000e-01]\n",
      " [-1.26441700e-16  1.53745470e+02 -1.14845000e-01]\n",
      " [-1.46537500e-16  1.58575880e+02  6.50217000e-01]\n",
      " [ 1.23299000e+00  1.36530630e+02  6.28176500e+00]\n",
      " [ 1.41876900e+01  1.39780130e+02  3.01304500e+00]\n",
      " [ 4.33957900e+01  1.39839938e+02  3.15008400e+00]\n",
      " [ 6.76297900e+01  1.39889560e+02  3.26378500e+00]\n",
      " [-1.23299000e+00  1.36530650e+02  6.28167500e+00]\n",
      " [-1.41876900e+01  1.39780150e+02  3.01295500e+00]\n",
      " [-4.33957900e+01  1.39839958e+02  3.14999400e+00]\n",
      " [-6.76297900e+01  1.39889580e+02  3.26369600e+00]\n",
      " [ 9.23673000e+00  8.90873400e+01  2.03270000e+00]\n",
      " [ 8.38437700e+00  5.03152400e+01  1.37751300e+00]\n",
      " [ 6.05815700e+00  9.91354000e+00 -4.67123700e+00]\n",
      " [ 6.83725300e+00  2.91400000e-02  7.82466300e+00]\n",
      " [-9.23673000e+00  8.90873400e+01  2.03270000e+00]\n",
      " [-8.38437700e+00  5.03152400e+01  1.37751300e+00]\n",
      " [-6.05815700e+00  9.91354000e+00 -4.67123700e+00]\n",
      " [-6.83725300e+00  2.91400000e-02  7.82466300e+00]]\n",
      "(21871, 27, 3)\n",
      "(7248, 27, 3)\n"
     ]
    }
   ],
   "source": [
    "print(train_data[0])\n",
    "\n",
    "# train shape\n",
    "print(train_data.shape)\n",
    "\n",
    "# test shape\n",
    "print(test_data.shape)"
   ]
  }
 ],
 "metadata": {
  "kernelspec": {
   "display_name": "Python 3",
   "language": "python",
   "name": "python3"
  },
  "language_info": {
   "codemirror_mode": {
    "name": "ipython",
    "version": 3
   },
   "file_extension": ".py",
   "mimetype": "text/x-python",
   "name": "python",
   "nbconvert_exporter": "python",
   "pygments_lexer": "ipython3",
   "version": "3.10.12"
  }
 },
 "nbformat": 4,
 "nbformat_minor": 2
}
