{
 "cells": [
  {
   "cell_type": "code",
   "execution_count": 17,
   "metadata": {},
   "outputs": [],
   "source": [
    "import copy\n",
    "import numpy as np\n",
    "from persor import BVHparser\n",
    "from scipy.spatial.transform import Rotation\n",
    "\n",
    "import matplotlib.pyplot as plt\n",
    "from matplotlib.animation import ArtistAnimation"
   ]
  },
  {
   "cell_type": "code",
   "execution_count": 18,
   "metadata": {},
   "outputs": [],
   "source": [
    "def get_joint_coords(skeleton, joint, coords):\n",
    "    offset = skeleton[joint][\"offset\"]\n",
    "    parent_joint = skeleton[joint][\"joint\"]\n",
    "    child_joints = skeleton[joint][\"children\"]\n",
    "\n",
    "    if parent_joint == None:\n",
    "        return\n",
    "\n",
    "    parent_coord = coords[parent_joint][\"coord\"]\n",
    "\n",
    "    current_coord = [\n",
    "        parent_coord[0] + offset[0],\n",
    "        parent_coord[1] + offset[1],\n",
    "        parent_coord[2] + offset[2],\n",
    "    ]\n",
    "    coords[joint] = {\"coord\": current_coord, \"parent\": parent_joint}\n",
    "\n",
    "    for child in child_joints:\n",
    "        get_joint_coords(skeleton, child, coords)\n",
    "\n",
    "\n",
    "def skelton2coords(skeleton):\n",
    "    coords = {\"root\": {\"coord\": skeleton[\"root\"][\"offset\"], \"parent\": None}}\n",
    "    skeleton[\"root\"]\n",
    "\n",
    "    child_joints = skeleton[\"root\"][\"children\"]\n",
    "    for child in child_joints:\n",
    "        get_joint_coords(skeleton, child, coords)\n",
    "\n",
    "    get_joint_coords(skeleton, \"root\", coords)\n",
    "\n",
    "    return coords\n",
    "\n",
    "\n",
    "def rotated_offset(skeleton, frame):\n",
    "    skeleton_copy = copy.deepcopy(skeleton)\n",
    "    for joint, data in skeleton_copy.items():\n",
    "        if joint == \"root\" or joint.startswith(\"_\"):\n",
    "            continue\n",
    "\n",
    "        x_rotate = np.deg2rad(frame[f\"{joint}_Xrotation\"])\n",
    "        y_rotate = np.deg2rad(frame[f\"{joint}_Yrotation\"])\n",
    "        z_rotate = np.deg2rad(frame[f\"{joint}_Zrotation\"])\n",
    "\n",
    "        rot = Rotation.from_rotvec(np.array([y_rotate, x_rotate, z_rotate]))\n",
    "        skeleton_copy[joint][\"offset\"] = rot.apply(data[\"offset\"])\n",
    "\n",
    "    return skeleton_copy\n",
    "\n",
    "\n",
    "def convert2coordDict(bvhp):\n",
    "    df = bvhp.get_motion_df()\n",
    "    skeleton = bvhp.get_skeleton()\n",
    "\n",
    "    data = []\n",
    "    for i in range(len(df)):\n",
    "        skeleton_rotated = rotated_offset(skeleton, df.iloc[i])\n",
    "        coords = skelton2coords(skeleton_rotated)\n",
    "        data.append(coords)\n",
    "\n",
    "    return np.array(data)"
   ]
  },
  {
   "cell_type": "code",
   "execution_count": 19,
   "metadata": {},
   "outputs": [],
   "source": [
    "bvhp = BVHparser(\"./data/bvh/体を曲げる運動.bvh\")\n",
    "# bvhp = BVHparser(\"./data/bvh/両手を上げ下げ.bvh\")\n",
    "coords = convert2coordDict(bvhp)\n"
   ]
  },
  {
   "cell_type": "code",
   "execution_count": 20,
   "metadata": {},
   "outputs": [],
   "source": [
    "fig = plt.figure(figsize=(5, 5))\n",
    "\n",
    "frames = []\n",
    "for coord in coords[270:3000:10]:\n",
    "    frame = [\n",
    "        plt.plot(c[\"coord\"][0], c[\"coord\"][1], marker=\"o\", color=\"blue\")[0]\n",
    "        for c in coord.values()\n",
    "    ]\n",
    "    frames.append(frame)\n",
    "\n",
    "ani = ArtistAnimation(fig, frames, interval=1)\n",
    "\n",
    "ani.save(\"animation.gif\", writer=\"pillow\")\n",
    "plt.close()"
   ]
  }
 ],
 "metadata": {
  "kernelspec": {
   "display_name": "Python 3",
   "language": "python",
   "name": "python3"
  },
  "language_info": {
   "codemirror_mode": {
    "name": "ipython",
    "version": 3
   },
   "file_extension": ".py",
   "mimetype": "text/x-python",
   "name": "python",
   "nbconvert_exporter": "python",
   "pygments_lexer": "ipython3",
   "version": "3.10.12"
  }
 },
 "nbformat": 4,
 "nbformat_minor": 2
}
