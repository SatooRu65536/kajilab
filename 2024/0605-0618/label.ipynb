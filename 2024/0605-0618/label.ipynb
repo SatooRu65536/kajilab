{
 "cells": [
  {
   "cell_type": "code",
   "execution_count": 1,
   "metadata": {},
   "outputs": [],
   "source": [
    "import copy\n",
    "import numpy as np\n",
    "from persor import BVHparser\n",
    "from scipy.spatial.transform import Rotation"
   ]
  },
  {
   "cell_type": "code",
   "execution_count": 2,
   "metadata": {},
   "outputs": [],
   "source": [
    "def get_joint_coords(skeleton, joint, coords):\n",
    "    offset = skeleton[joint][\"offset\"]\n",
    "    parent_joint = skeleton[joint][\"joint\"]\n",
    "    child_joints = skeleton[joint][\"children\"]\n",
    "\n",
    "    if parent_joint == None:\n",
    "        return\n",
    "\n",
    "    parent_coord = coords[parent_joint][\"coord\"]\n",
    "\n",
    "    current_coord = [\n",
    "        parent_coord[0] + offset[0],\n",
    "        parent_coord[1] + offset[1],\n",
    "        parent_coord[2] + offset[2],\n",
    "    ]\n",
    "    coords[joint] = {\"coord\": current_coord, \"parent\": parent_joint}\n",
    "\n",
    "    for child in child_joints:\n",
    "        get_joint_coords(skeleton, child, coords)\n",
    "\n",
    "\n",
    "def skelton2coords(skeleton):\n",
    "    coords = {\"root\": {\"coord\": skeleton[\"root\"][\"offset\"], \"parent\": None}}\n",
    "    skeleton[\"root\"]\n",
    "\n",
    "    child_joints = skeleton[\"root\"][\"children\"]\n",
    "    for child in child_joints:\n",
    "        get_joint_coords(skeleton, child, coords)\n",
    "\n",
    "    get_joint_coords(skeleton, \"root\", coords)\n",
    "\n",
    "    return coords\n",
    "\n",
    "\n",
    "def rotated_offset(skeleton, frame):\n",
    "    skeleton_copy = copy.deepcopy(skeleton)\n",
    "    for joint, data in skeleton_copy.items():\n",
    "        if joint == \"root\" or joint.startswith(\"_\"):\n",
    "            continue\n",
    "\n",
    "        x_rotate = np.deg2rad(frame[f\"{joint}_Xrotation\"])\n",
    "        y_rotate = np.deg2rad(frame[f\"{joint}_Yrotation\"])\n",
    "        z_rotate = np.deg2rad(frame[f\"{joint}_Zrotation\"])\n",
    "\n",
    "        rot = Rotation.from_rotvec(np.array([y_rotate, x_rotate, z_rotate]))\n",
    "        skeleton_copy[joint][\"offset\"] = rot.apply(data[\"offset\"])\n",
    "\n",
    "    return skeleton_copy\n",
    "\n",
    "\n",
    "def convert2coordDict(df, skeleton):\n",
    "    df = df.copy()\n",
    "    data = []\n",
    "    for i in range(len(df)):\n",
    "        skeleton_rotated = rotated_offset(skeleton, df.iloc[i])\n",
    "        coords = skelton2coords(skeleton_rotated)\n",
    "        data.append(coords)\n",
    "\n",
    "    return np.array(data)\n",
    "\n",
    "\n",
    "def coord_dict2coords_array(coords_dict):\n",
    "    return np.array(\n",
    "        [[data[\"coord\"] for joint, data in coords.items()] for coords in coords_dict]\n",
    "    )\n",
    "\n",
    "\n",
    "def get_splited_data(bvhp, window_size, stride, start=0, label=0):\n",
    "    df = bvhp.get_motion_df()\n",
    "    skeleton = bvhp.get_skeleton()\n",
    "    coord_data = coord_dict2coords_array(convert2coordDict(df, skeleton))\n",
    "\n",
    "    data = np.array([\n",
    "        coord_data[i : i + window_size]\n",
    "        for i in range(start, len(df) - window_size, stride)\n",
    "    ]).transpose(0, 3, 1, 2)\n",
    "    labels = [label] * len(data)\n",
    "\n",
    "    return data, labels"
   ]
  },
  {
   "cell_type": "markdown",
   "metadata": {},
   "source": [
    "## 訓練・テスト用データを生成するよ"
   ]
  },
  {
   "cell_type": "markdown",
   "metadata": {},
   "source": [
    "1. 体を曲げる運動\n",
    "2. 両手を上げ下げ\n",
    "3. 体を捻る\n",
    "4. ジャンプ\n",
    "5. 何もしない"
   ]
  },
  {
   "cell_type": "code",
   "execution_count": 3,
   "metadata": {},
   "outputs": [
    {
     "name": "stdout",
     "output_type": "stream",
     "text": [
      "{0, 1, 2, 3, 4}\n"
     ]
    }
   ],
   "source": [
    "# データの取得\n",
    "window_size = 200\n",
    "data1, label1 = get_splited_data(BVHparser(\"./data/bvh/体を曲げる運動.bvh\"), window_size, 300, 270, 0)\n",
    "data2, label2 = get_splited_data(BVHparser(\"./data/bvh/両手を上げ下げ.bvh\"), window_size, 300, 270, 1)\n",
    "data3, label3 = get_splited_data(BVHparser(\"./data/bvh/体を捻る.bvh\"), window_size, 300, 270, 2)\n",
    "data4, label4 = get_splited_data(BVHparser(\"./data/bvh/ジャンプ.bvh\"), window_size, 300, 280, 3)\n",
    "data5, label5 = get_splited_data(BVHparser(\"./data/bvh/何もしない.bvh\"), window_size, 300, 270, 4)\n",
    "\n",
    "# データを結合\n",
    "data = np.concatenate([data1, data2, data3, data4, data5])\n",
    "label = np.concatenate([label1, label2, label3, label4, label5])\n",
    "\n",
    "# data, labelをシャッフル\n",
    "p = np.random.permutation(len(data))\n",
    "data = data[p]\n",
    "label = label[p]\n",
    "\n",
    "# 訓練データとテストデータに分割\n",
    "train_data = data[: int(len(data) * 0.8)]\n",
    "train_label = label[: int(len(data) * 0.8)]\n",
    "test_data = data[int(len(data) * 0.8) :]\n",
    "test_label = label[int(len(data) * 0.8) :]\n",
    "\n",
    "np.save(\"data/train_data.npy\", train_data)\n",
    "np.save(\"data/train_label.npy\", train_label)\n",
    "np.save(\"data/test_data.npy\", test_data)\n",
    "np.save(\"data/test_label.npy\", test_label)\n",
    "\n",
    "print(set(train_label))"
   ]
  }
 ],
 "metadata": {
  "kernelspec": {
   "display_name": "Python 3",
   "language": "python",
   "name": "python3"
  },
  "language_info": {
   "codemirror_mode": {
    "name": "ipython",
    "version": 3
   },
   "file_extension": ".py",
   "mimetype": "text/x-python",
   "name": "python",
   "nbconvert_exporter": "python",
   "pygments_lexer": "ipython3",
   "version": "3.10.12"
  }
 },
 "nbformat": 4,
 "nbformat_minor": 2
}
