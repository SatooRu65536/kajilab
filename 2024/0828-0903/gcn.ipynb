{
 "cells": [
  {
   "cell_type": "code",
   "execution_count": 49,
   "metadata": {},
   "outputs": [],
   "source": [
    "from torch import nn\n",
    "import torch\n",
    "from einops import rearrange\n",
    "from torch_geometric.datasets import Planetoid"
   ]
  },
  {
   "cell_type": "code",
   "execution_count": 50,
   "metadata": {},
   "outputs": [],
   "source": [
    "def create_adjacency_matrix(edge_index, num_nodes):\n",
    "    adjacency_matrix = torch.zeros((num_nodes, num_nodes), dtype=torch.float32)\n",
    "\n",
    "    for i in range(edge_index.size(1)):\n",
    "        source = edge_index[0, i]\n",
    "        target = edge_index[1, i]\n",
    "        adjacency_matrix[source, target] = 1\n",
    "\n",
    "    return adjacency_matrix\n",
    "\n",
    "\n",
    "def create_degree_matrix(adjacency_matrix):\n",
    "    # 各行の要素の合計を計算し、それを逆数にする\n",
    "    degree_vector = torch.sum(adjacency_matrix, dim=1)\n",
    "    # 逆数を計算し、ゼロ除算を防ぐためにepsを加算\n",
    "    inv_degree_vector = 1.0 / (degree_vector + torch.finfo(torch.float32).eps)\n",
    "    # 対角行列として設定\n",
    "    degree_matrix = torch.diag(inv_degree_vector)\n",
    "\n",
    "    return degree_matrix\n",
    "\n",
    "\n",
    "def create_dad(edge_index, num_nodes):\n",
    "    A = create_adjacency_matrix(edge_index, num_nodes)\n",
    "    D = create_degree_matrix(A)\n",
    "    return D @ A @ D"
   ]
  },
  {
   "cell_type": "code",
   "execution_count": 51,
   "metadata": {},
   "outputs": [],
   "source": [
    "class GraphConv(nn.Module):\n",
    "    def __init__(self, in_features, out_features):\n",
    "        super(GraphConv, self).__init__()\n",
    "        self.in_features = in_features\n",
    "        self.out_features = out_features\n",
    "        # 畳み込み層 (1x1 のカーネルを持つ)\n",
    "        self.conv = nn.Conv2d(in_features, out_features, kernel_size=1)\n",
    "\n",
    "    def forward(self, input, adj):\n",
    "        input = rearrange(input, \"V C -> C 1 V\")\n",
    "\n",
    "        # 畳み込みの適用\n",
    "        XW = self.conv(input)\n",
    "        XW = XW.squeeze(1)\n",
    "\n",
    "        DADXW = torch.einsum(\"CV,VW->CW\", XW, adj)\n",
    "\n",
    "        # 形状を (V, C) に変換\n",
    "        DADXW = rearrange(DADXW, \"C V -> V C\")\n",
    "        return DADXW"
   ]
  },
  {
   "cell_type": "code",
   "execution_count": 52,
   "metadata": {},
   "outputs": [
    {
     "name": "stdout",
     "output_type": "stream",
     "text": [
      "\n",
      "    グラフ構造の数: 1\n",
      "    クラス数: 7\n",
      "    特徴量の次元数: 1433\n",
      "    ノード数: 2708\n",
      "    エッジ数: 10556\n",
      "\n"
     ]
    }
   ],
   "source": [
    "# データセットを読み込む\n",
    "dataset = Planetoid(root=\"./Cora\", name=\"Cora\")\n",
    "print(\n",
    "    f\"\"\"\n",
    "    グラフ構造の数: {len(dataset)}\n",
    "    クラス数: {dataset.num_classes}\n",
    "    特徴量の次元数: {dataset.num_node_features}\n",
    "    ノード数: {dataset[0].num_nodes}\n",
    "    エッジ数: {dataset[0].num_edges}\n",
    "\"\"\"\n",
    ")"
   ]
  },
  {
   "cell_type": "code",
   "execution_count": 53,
   "metadata": {},
   "outputs": [],
   "source": [
    "data = dataset[0]\n",
    "\n",
    "# データのマスク\n",
    "train_mask = data.train_mask\n",
    "val_mask = data.val_mask\n",
    "test_mask = data.test_mask"
   ]
  },
  {
   "cell_type": "code",
   "execution_count": 54,
   "metadata": {},
   "outputs": [],
   "source": [
    "# ノードの数\n",
    "num_nodes = data.num_nodes\n",
    "# 特徴量の次元数\n",
    "in_channels = dataset.num_node_features\n",
    "#\n",
    "out_channels = dataset.num_classes\n",
    "# 特徴量行列\n",
    "X = dataset[0].x\n",
    "# ラベル\n",
    "y = dataset[0].y\n",
    "\n",
    "# DAD行列\n",
    "DAD = create_dad(dataset[0].edge_index, num_nodes)"
   ]
  },
  {
   "cell_type": "code",
   "execution_count": 55,
   "metadata": {},
   "outputs": [],
   "source": [
    "model = GraphConv(in_channels, out_channels)\n",
    "criterion = nn.CrossEntropyLoss()\n",
    "optimizer = torch.optim.Adam(model.parameters(), lr=0.001)\n",
    "\n",
    "for epoch in range(100):\n",
    "    model.train()\n",
    "    optimizer.zero_grad()\n",
    "    out = model(X, DAD)\n",
    "    loss = criterion(out[train_mask], y[train_mask])\n",
    "    loss.backward()\n",
    "    optimizer.step()\n",
    "\n",
    "    model.eval()\n",
    "    with torch.no_grad():\n",
    "        # トレーニングセットの精度計算\n",
    "        _, pred_train = model(X, DAD).max(dim=1)\n",
    "        train_correct = int(pred_train[train_mask].eq(y[train_mask]).sum().item())\n",
    "        train_acc = train_correct / int(train_mask.sum())\n",
    "\n",
    "        # 検証セットの精度計算\n",
    "        _, pred_val = model(X, DAD).max(dim=1)\n",
    "        val_correct = int(pred_val[val_mask].eq(y[val_mask]).sum().item())\n",
    "        val_acc = val_correct / int(val_mask.sum())"
   ]
  },
  {
   "cell_type": "code",
   "execution_count": 56,
   "metadata": {},
   "outputs": [
    {
     "name": "stdout",
     "output_type": "stream",
     "text": [
      "Test Accuracy: 0.6400\n"
     ]
    }
   ],
   "source": [
    "model.eval()\n",
    "_, pred = model(X, DAD).max(dim=1)\n",
    "correct = int(pred[test_mask].eq(y[test_mask]).sum().item())\n",
    "test_acc = correct / int(test_mask.sum())\n",
    "print(f\"Test Accuracy: {test_acc:.4f}\")\n"
   ]
  }
 ],
 "metadata": {
  "kernelspec": {
   "display_name": "Python 3",
   "language": "python",
   "name": "python3"
  },
  "language_info": {
   "codemirror_mode": {
    "name": "ipython",
    "version": 3
   },
   "file_extension": ".py",
   "mimetype": "text/x-python",
   "name": "python",
   "nbconvert_exporter": "python",
   "pygments_lexer": "ipython3",
   "version": "3.10.12"
  }
 },
 "nbformat": 4,
 "nbformat_minor": 2
}
