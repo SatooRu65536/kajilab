{
 "cells": [
  {
   "cell_type": "code",
   "execution_count": 1,
   "metadata": {},
   "outputs": [
    {
     "name": "stderr",
     "output_type": "stream",
     "text": [
      "objc[36290]: Class CaptureDelegate is implemented in both /Users/satooru/.pyenv/versions/3.10.12/lib/python3.10/site-packages/cv2/cv2.abi3.so (0x10e4e66b8) and /Users/satooru/.pyenv/versions/3.10.12/lib/python3.10/site-packages/mediapipe/.dylibs/libopencv_videoio.3.4.16.dylib (0x111ce4860). One of the two will be used. Which one is undefined.\n",
      "objc[36290]: Class CVWindow is implemented in both /Users/satooru/.pyenv/versions/3.10.12/lib/python3.10/site-packages/cv2/cv2.abi3.so (0x10e4e6708) and /Users/satooru/.pyenv/versions/3.10.12/lib/python3.10/site-packages/mediapipe/.dylibs/libopencv_highgui.3.4.16.dylib (0x10f218a68). One of the two will be used. Which one is undefined.\n",
      "objc[36290]: Class CVView is implemented in both /Users/satooru/.pyenv/versions/3.10.12/lib/python3.10/site-packages/cv2/cv2.abi3.so (0x10e4e6730) and /Users/satooru/.pyenv/versions/3.10.12/lib/python3.10/site-packages/mediapipe/.dylibs/libopencv_highgui.3.4.16.dylib (0x10f218a90). One of the two will be used. Which one is undefined.\n",
      "objc[36290]: Class CVSlider is implemented in both /Users/satooru/.pyenv/versions/3.10.12/lib/python3.10/site-packages/cv2/cv2.abi3.so (0x10e4e6758) and /Users/satooru/.pyenv/versions/3.10.12/lib/python3.10/site-packages/mediapipe/.dylibs/libopencv_highgui.3.4.16.dylib (0x10f218ab8). One of the two will be used. Which one is undefined.\n"
     ]
    }
   ],
   "source": [
    "import cv2\n",
    "import numpy as np\n",
    "import mediapipe as mp\n",
    "import torch\n",
    "from torch import nn\n",
    "from einops import rearrange\n",
    "from torch.utils.data import TensorDataset, DataLoader"
   ]
  },
  {
   "cell_type": "code",
   "execution_count": 13,
   "metadata": {},
   "outputs": [],
   "source": [
    "data = np.load(\"./data/raw_npy/S001C001P001R001A010.skeleton.npy\", allow_pickle=True).item()"
   ]
  },
  {
   "cell_type": "code",
   "execution_count": null,
   "metadata": {},
   "outputs": [],
   "source": [
    "data.keys()"
   ]
  },
  {
   "cell_type": "code",
   "execution_count": null,
   "metadata": {},
   "outputs": [],
   "source": [
    "data['njoints']"
   ]
  },
  {
   "cell_type": "code",
   "execution_count": null,
   "metadata": {},
   "outputs": [],
   "source": [
    "len(data['skel_body0'])"
   ]
  },
  {
   "cell_type": "code",
   "execution_count": 2,
   "metadata": {},
   "outputs": [],
   "source": [
    "# ./data/raw_npy/ 以下のファイルパスを取得\n",
    "import glob\n",
    "paths = glob.glob(\"./data/raw_npy/*.npy\")\n",
    "\n",
    "length = []\n",
    "\n",
    "for path in paths:\n",
    "    data = np.load(path, allow_pickle=True).item()\n",
    "    length.append(len(data['skel_body0']))\n"
   ]
  },
  {
   "cell_type": "code",
   "execution_count": 4,
   "metadata": {},
   "outputs": [
    {
     "name": "stdout",
     "output_type": "stream",
     "text": [
      "4807016\n",
      "avg:  84.51153305203938\n",
      "max:  300\n",
      "min:  26\n"
     ]
    }
   ],
   "source": [
    "print(sum(length))\n",
    "print(\"avg: \", sum(length) / len(length))\n",
    "print(\"max: \", max(length))\n",
    "print(\"min: \", min(length))"
   ]
  }
 ],
 "metadata": {
  "kernelspec": {
   "display_name": "Python 3",
   "language": "python",
   "name": "python3"
  },
  "language_info": {
   "codemirror_mode": {
    "name": "ipython",
    "version": 3
   },
   "file_extension": ".py",
   "mimetype": "text/x-python",
   "name": "python",
   "nbconvert_exporter": "python",
   "pygments_lexer": "ipython3",
   "version": "3.10.12"
  }
 },
 "nbformat": 4,
 "nbformat_minor": 2
}
