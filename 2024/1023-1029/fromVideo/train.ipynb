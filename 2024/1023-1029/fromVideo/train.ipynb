{
 "cells": [
  {
   "cell_type": "code",
   "execution_count": 1,
   "metadata": {},
   "outputs": [],
   "source": [
    "import pandas as pd\n",
    "from sklearn.model_selection import train_test_split\n",
    "from sklearn.ensemble import RandomForestClassifier\n",
    "from sklearn.metrics import classification_report, accuracy_score\n",
    "import pickle"
   ]
  },
  {
   "cell_type": "code",
   "execution_count": 2,
   "metadata": {},
   "outputs": [
    {
     "name": "stdout",
     "output_type": "stream",
     "text": [
      "Accuracy: 0.8646288209606987\n",
      "              precision    recall  f1-score   support\n",
      "\n",
      "           0       0.88      0.91      0.89       288\n",
      "           1       0.84      0.78      0.81       170\n",
      "\n",
      "    accuracy                           0.86       458\n",
      "   macro avg       0.86      0.85      0.85       458\n",
      "weighted avg       0.86      0.86      0.86       458\n",
      "\n"
     ]
    }
   ],
   "source": [
    "# CSVデータの読み込み\n",
    "df_running = pd.read_csv(\"./csv/run.csv\")\n",
    "df_running[\"label\"] = 1  # 走っている = 1\n",
    "\n",
    "df_not_running = pd.read_csv(\"./csv/not_run.csv\")\n",
    "df_not_running[\"label\"] = 0  # 走っていない = 0\n",
    "\n",
    "# 両方のデータを結合\n",
    "df = pd.concat([df_running, df_not_running], ignore_index=True)\n",
    "\n",
    "# 首と胸のy座標の差分を計算\n",
    "df[\"nose_y_diff\"] = df[\"landmark_0_y\"].diff().fillna(0)  # 鼻のy座標の差分\n",
    "df[\"left_shoulder_y_diff\"] = df[\"landmark_11_y\"].diff().fillna(0)  # 左肩のy座標の差分\n",
    "\n",
    "# 訓練データとテストデータに分割\n",
    "X = df[[\"nose_y_diff\", \"left_shoulder_y_diff\"]]\n",
    "y = df[\"label\"]\n",
    "\n",
    "X_train, X_test, y_train, y_test = train_test_split(\n",
    "    X, y, test_size=0.2, random_state=42\n",
    ")\n",
    "\n",
    "# ランダムフォレストでの学習\n",
    "clf = RandomForestClassifier()\n",
    "clf.fit(X_train, y_train)\n",
    "\n",
    "# モデルを.pkl形式のファイルに保存\n",
    "with open(\"running_model_RandomForest.pkl\", \"wb\") as file:\n",
    "    pickle.dump(clf, file)\n",
    "\n",
    "# 予測と評価\n",
    "y_pred = clf.predict(X_test)\n",
    "\n",
    "print(\"Accuracy:\", accuracy_score(y_test, y_pred))\n",
    "print(classification_report(y_test, y_pred))"
   ]
  }
 ],
 "metadata": {
  "kernelspec": {
   "display_name": "Python 3",
   "language": "python",
   "name": "python3"
  },
  "language_info": {
   "codemirror_mode": {
    "name": "ipython",
    "version": 3
   },
   "file_extension": ".py",
   "mimetype": "text/x-python",
   "name": "python",
   "nbconvert_exporter": "python",
   "pygments_lexer": "ipython3",
   "version": "3.10.12"
  }
 },
 "nbformat": 4,
 "nbformat_minor": 2
}
