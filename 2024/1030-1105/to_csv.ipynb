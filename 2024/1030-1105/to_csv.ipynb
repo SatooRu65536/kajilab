{
 "cells": [
  {
   "cell_type": "code",
   "execution_count": 1,
   "metadata": {},
   "outputs": [],
   "source": [
    "from persor import BVHparser\n",
    "import glob"
   ]
  },
  {
   "cell_type": "code",
   "execution_count": 3,
   "metadata": {},
   "outputs": [],
   "source": [
    "# ./motion 以下のファイルをすべて読み込む\n",
    "# files = glob.glob(\"./motion/*.bvh\")\n",
    "files = [\"./motion/test.bvh\"]\n",
    "\n",
    "for file in files:\n",
    "    bvhp = BVHparser(file)\n",
    "    csv_file = file.replace(\"motion\", \"_csv\").replace(\".bvh\", \".csv\")\n",
    "    bvhp.to_csv(csv_file, index=False)"
   ]
  }
 ],
 "metadata": {
  "kernelspec": {
   "display_name": "Python 3",
   "language": "python",
   "name": "python3"
  },
  "language_info": {
   "codemirror_mode": {
    "name": "ipython",
    "version": 3
   },
   "file_extension": ".py",
   "mimetype": "text/x-python",
   "name": "python",
   "nbconvert_exporter": "python",
   "pygments_lexer": "ipython3",
   "version": "3.10.12"
  }
 },
 "nbformat": 4,
 "nbformat_minor": 2
}
